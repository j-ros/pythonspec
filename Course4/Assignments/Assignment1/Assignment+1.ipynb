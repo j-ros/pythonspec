{
 "cells": [
  {
   "cell_type": "markdown",
   "metadata": {},
   "source": [
    "---\n",
    "\n",
    "_You are currently looking at **version 1.1** of this notebook. To download notebooks and datafiles, as well as get help on Jupyter notebooks in the Coursera platform, visit the [Jupyter Notebook FAQ](https://www.coursera.org/learn/python-text-mining/resources/d9pwm) course resource._\n",
    "\n",
    "---"
   ]
  },
  {
   "cell_type": "markdown",
   "metadata": {},
   "source": [
    "# Assignment 1\n",
    "\n",
    "In this assignment, you'll be working with messy medical data and using regex to extract relevant infromation from the data. \n",
    "\n",
    "Each line of the `dates.txt` file corresponds to a medical note. Each note has a date that needs to be extracted, but each date is encoded in one of many formats.\n",
    "\n",
    "The goal of this assignment is to correctly identify all of the different date variants encoded in this dataset and to properly normalize and sort the dates. \n",
    "\n",
    "Here is a list of some of the variants you might encounter in this dataset:\n",
    "* 04/20/2009; 04/20/09; 4/20/09; 4/3/09\n",
    "* Mar-20-2009; Mar 20, 2009; March 20, 2009;  Mar. 20, 2009; Mar 20 2009;\n",
    "* 20 Mar 2009; 20 March 2009; 20 Mar. 2009; 20 March, 2009\n",
    "* Mar 20th, 2009; Mar 21st, 2009; Mar 22nd, 2009\n",
    "* Feb 2009; Sep 2009; Oct 2010\n",
    "* 6/2008; 12/2009\n",
    "* 2009; 2010\n",
    "\n",
    "Once you have extracted these date patterns from the text, the next step is to sort them in ascending chronological order accoring to the following rules:\n",
    "* Assume all dates in xx/xx/xx format are mm/dd/yy\n",
    "* Assume all dates where year is encoded in only two digits are years from the 1900's (e.g. 1/5/89 is January 5th, 1989)\n",
    "* If the day is missing (e.g. 9/2009), assume it is the first day of the month (e.g. September 1, 2009).\n",
    "* If the month is missing (e.g. 2010), assume it is the first of January of that year (e.g. January 1, 2010).\n",
    "* Watch out for potential typos as this is a raw, real-life derived dataset.\n",
    "\n",
    "With these rules in mind, find the correct date in each note and return a pandas Series in chronological order of the original Series' indices.\n",
    "\n",
    "For example if the original series was this:\n",
    "\n",
    "    0    1999\n",
    "    1    2010\n",
    "    2    1978\n",
    "    3    2015\n",
    "    4    1985\n",
    "\n",
    "Your function should return this:\n",
    "\n",
    "    0    2\n",
    "    1    4\n",
    "    2    0\n",
    "    3    1\n",
    "    4    3\n",
    "\n",
    "Your score will be calculated using [Kendall's tau](https://en.wikipedia.org/wiki/Kendall_rank_correlation_coefficient), a correlation measure for ordinal data.\n",
    "\n",
    "*This function should return a Series of length 500 and dtype int.*"
   ]
  },
  {
   "cell_type": "code",
   "execution_count": 1,
   "metadata": {
    "collapsed": false
   },
   "outputs": [
    {
     "data": {
      "text/plain": [
       "0         03/25/93 Total time of visit (in minutes):\\n\n",
       "1                       6/18/85 Primary Care Doctor:\\n\n",
       "2    sshe plans to move as of 7/8/71 In-Home Servic...\n",
       "3                7 on 9/27/75 Audit C Score Current:\\n\n",
       "4    2/6/96 sleep studyPain Treatment Pain Level (N...\n",
       "5                    .Per 7/06/79 Movement D/O note:\\n\n",
       "6    4, 5/18/78 Patient's thoughts about current su...\n",
       "7    10/24/89 CPT Code: 90801 - Psychiatric Diagnos...\n",
       "8                         3/7/86 SOS-10 Total Score:\\n\n",
       "9             (4/10/71)Score-1Audit C Score Current:\\n\n",
       "dtype: object"
      ]
     },
     "execution_count": 1,
     "metadata": {},
     "output_type": "execute_result"
    }
   ],
   "source": [
    "import pandas as pd\n",
    "\n",
    "doc = []\n",
    "with open('dates.txt') as file:\n",
    "    for line in file:\n",
    "        doc.append(line)\n",
    "\n",
    "df = pd.Series(doc)\n",
    "df.head(10)"
   ]
  },
  {
   "cell_type": "code",
   "execution_count": 2,
   "metadata": {
    "collapsed": false
   },
   "outputs": [
    {
     "data": {
      "text/plain": [
       "0      250\n",
       "1      155\n",
       "2        2\n",
       "3       52\n",
       "4      286\n",
       "5       91\n",
       "6       81\n",
       "7      208\n",
       "8      164\n",
       "9        0\n",
       "10     153\n",
       "11      46\n",
       "12     308\n",
       "13       7\n",
       "14     216\n",
       "15     412\n",
       "16     118\n",
       "17      65\n",
       "18     303\n",
       "19      71\n",
       "20     306\n",
       "21      95\n",
       "22     214\n",
       "23      58\n",
       "24     145\n",
       "25     119\n",
       "26     207\n",
       "27      63\n",
       "28       4\n",
       "29     173\n",
       "      ... \n",
       "470    130\n",
       "471    313\n",
       "472    401\n",
       "473     43\n",
       "474      5\n",
       "475    436\n",
       "476    194\n",
       "477    257\n",
       "478    247\n",
       "479    284\n",
       "480    428\n",
       "481     24\n",
       "482    210\n",
       "483    268\n",
       "484    357\n",
       "485    177\n",
       "486     15\n",
       "487    234\n",
       "488     66\n",
       "489    149\n",
       "490    381\n",
       "491    396\n",
       "492    161\n",
       "493     76\n",
       "494    342\n",
       "495     88\n",
       "496    375\n",
       "497    389\n",
       "498    369\n",
       "499     97\n",
       "dtype: int32"
      ]
     },
     "execution_count": 2,
     "metadata": {},
     "output_type": "execute_result"
    }
   ],
   "source": [
    "def date_sorter():\n",
    "    from dateutil.parser import parse\n",
    "    from datetime import datetime, date, time\n",
    "    import locale\n",
    "    \n",
    "    locale.setlocale(locale.LC_ALL, 'English') #Change locale for month names\n",
    "    \n",
    "    #Parse all date formats from file\n",
    "    regex = '(?:[01]?\\d[/\\-](?:(?:[012]\\d)|(?:3[01])|\\d)[/\\-]\\d{2,4})|(?:(?:Jan|Feb|Mar|Apr|May|Jun|Jul|Aug|Sep|Oct|Nov|Dec)[a-z]*[ \\.\\-\\,]+(?:\\d{1,2}(?:st|nd|rd|th)?[\\-, ]+)?\\d{2,4})|(?:\\d{1,2} (?:Jan|Feb|Mar|Apr|May|Jun|Jul|Aug|Sep|Oct|Nov| Dec)[a-z]*[ \\.,]+\\d{2,4})|(?:\\d{1,2}/\\d{4})|(?:(?:(?:19)|(?:20))\\d{2})'\n",
    "    dates = df.str.findall(regex)\n",
    "    \n",
    "    #Set default date time for dateutil.parser parse function\n",
    "    default_date = date(1970, 1, 1)\n",
    "    default_time = time(0, 0)\n",
    "    default_dt = datetime.combine(default_date, default_time)\n",
    "\n",
    "    #Loop though Series and create a new Series with uniform format %Y-%m-%d\n",
    "    temp = []\n",
    "    for index_val, series_val in dates.iteritems():\n",
    "        parse_date = parse(series_val[0], default=default_dt, dayfirst=False, yearfirst=False, fuzzy=True)\n",
    "        temp.append(parse_date.strftime('%Y-%m-%d'))\n",
    "    \n",
    "    return pd.Series(temp).rank(method='dense').sub(1).astype(int)\n",
    "\n",
    "date_sorter()"
   ]
  }
 ],
 "metadata": {
  "coursera": {
   "course_slug": "python-text-mining",
   "graded_item_id": "LvcWI",
   "launcher_item_id": "krne9",
   "part_id": "Mkp1I"
  },
  "kernelspec": {
   "display_name": "Python 3",
   "language": "python",
   "name": "python3"
  },
  "language_info": {
   "codemirror_mode": {
    "name": "ipython",
    "version": 3
   },
   "file_extension": ".py",
   "mimetype": "text/x-python",
   "name": "python",
   "nbconvert_exporter": "python",
   "pygments_lexer": "ipython3",
   "version": "3.6.0"
  }
 },
 "nbformat": 4,
 "nbformat_minor": 2
}
